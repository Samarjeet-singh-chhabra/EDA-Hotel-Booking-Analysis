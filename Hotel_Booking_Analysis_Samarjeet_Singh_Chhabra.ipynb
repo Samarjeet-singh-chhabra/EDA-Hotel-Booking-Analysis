{
  "nbformat": 4,
  "nbformat_minor": 0,
  "metadata": {
    "colab": {
      "name": "Hotel Booking Analysis -Samarjeet Singh Chhabra.ipynb",
      "provenance": [],
      "authorship_tag": "ABX9TyP5TXwGFqUciFa2Z+XVkJrx",
      "include_colab_link": true
    },
    "kernelspec": {
      "name": "python3",
      "display_name": "Python 3"
    },
    "language_info": {
      "name": "python"
    }
  },
  "cells": [
    {
      "cell_type": "markdown",
      "metadata": {
        "id": "view-in-github",
        "colab_type": "text"
      },
      "source": [
        "<a href=\"https://colab.research.google.com/github/Samarjeet-singh-chhabra/EDA-Hotel-Booking-Analysis/blob/main/Hotel_Booking_Analysis_Samarjeet_Singh_Chhabra.ipynb\" target=\"_parent\"><img src=\"https://colab.research.google.com/assets/colab-badge.svg\" alt=\"Open In Colab\"/></a>"
      ]
    },
    {
      "cell_type": "markdown",
      "source": [
        "#Problem Statement\n"
      ],
      "metadata": {
        "id": "w9nj1T8JTpRZ"
      }
    },
    {
      "cell_type": "markdown",
      "source": [
        "Have you ever wondered when the best time of year to book a hotel room is? Or the optimal length of stay in order to get the best daily rate? What if you wanted to predict whether or not a hotel was likely to receive a disproportionately high number of special requests? This hotel booking dataset can help you explore those questions!\n",
        "\n",
        "This data set contains booking information for a city hotel and a resort hotel, and includes information such as when the booking was made, length of stay, the number of adults, children, and/or babies, and the number of available parking spaces, among other things. All personally identifying information has been removed from the data.\n",
        "\n",
        "Explore and analyze the data to discover important factors that govern the bookings."
      ],
      "metadata": {
        "id": "eGU_prJ9TosH"
      }
    },
    {
      "cell_type": "markdown",
      "source": [
        "#**Starting with cheking and cleaning**"
      ],
      "metadata": {
        "id": "hPHQpC6ZVnYQ"
      }
    },
    {
      "cell_type": "markdown",
      "source": [
        "##Adding required libraries."
      ],
      "metadata": {
        "id": "yKKp0jYiWiwF"
      }
    },
    {
      "cell_type": "code",
      "source": [
        "# Importing Libraries\n",
        "import numpy as np\n",
        "import pandas as pd\n",
        "from datetime import datetime\n",
        "import matplotlib.pyplot as plt\n",
        "import seaborn as sns\n",
        "%matplotlib inline\n"
      ],
      "metadata": {
        "id": "yobwYxPyVyYr"
      },
      "execution_count": 40,
      "outputs": []
    },
    {
      "cell_type": "markdown",
      "source": [
        "##Adding the CSV file\n",
        "\n",
        "\n"
      ],
      "metadata": {
        "id": "K8TE7Y9sWb1K"
      }
    },
    {
      "cell_type": "code",
      "source": [
        "#accessing it by link\n",
        "url = \"https://drive.google.com/file/d/1EGYfR6Q0LIN7DWJg9rp0WMwVcW9F9UG4/view?usp=sharing\"\n",
        "url='https://drive.google.com/uc?id=' + url.split('/')[-2]"
      ],
      "metadata": {
        "id": "JXfNIuQ3WhHl"
      },
      "execution_count": null,
      "outputs": []
    },
    {
      "cell_type": "markdown",
      "source": [
        "## Reading csv file "
      ],
      "metadata": {
        "id": "WdkMUO4uYcP_"
      }
    },
    {
      "cell_type": "code",
      "source": [
        "#making hotels_df the dataframe name\n",
        "hotels_df = pd.read_csv(url) "
      ],
      "metadata": {
        "id": "otXluhI8Xkcr"
      },
      "execution_count": null,
      "outputs": []
    },
    {
      "cell_type": "markdown",
      "source": [
        "##Exploring Dataset"
      ],
      "metadata": {
        "id": "CVFCEegqYwus"
      }
    },
    {
      "cell_type": "markdown",
      "source": [
        "### Data Description:\n",
        "\n",
        "1. **hotel** : *Hotel(Resort Hotel or City Hotel)* \n",
        "\n",
        "2. **is_canceled** : *Value indicating if the booking was canceled (1) or not (0)*\n",
        "\n",
        "3. **lead_time** :* Number of days that elapsed between the entering date of the booking into the PMS and the arrival date*\n",
        "\n",
        "4. **arrival_date_year** : *Year of arrival date*\n",
        "\n",
        "5. **arrival_date_month** : *Month of arrival date*\n",
        "\n",
        "6. **arrival_date_week_number** : *Week number of year for arrival date*\n",
        "\n",
        "7. **arrival_date_day_of_month** : *Day of arrival date*\n",
        "\n",
        "8. **stays_in_weekend_nights** : *Number of weekend nights (Saturday or Sunday) the guest stayed or booked to stay at the hotel*\n",
        "\n",
        "9. **stays_in_week_nights** : *Number of week nights (Monday to Friday) the guest stayed or booked to stay at the hotel*\n",
        "\n",
        "10. **adults** : *Number of adults*\n",
        "\n",
        "11. **children** : *Number of children*\n",
        "\n",
        "12. **babies** : *Number of babies*\n",
        "\n",
        "13. **meal** : *Type of meal booked. Categories are presented in standard hospitality meal packages:*\n",
        "\n",
        "14. **country** : *Country of origin.`*\n",
        "\n",
        "15. **market_segment** : *Market segment designation. In categories, the term “TA” means “Travel Agents” and “TO” means “Tour Operators”*\n",
        "\n",
        "16. **distribution_channel** : *Booking distribution channel. The term “TA” means “Travel Agents” and “TO” means “Tour Operators”*\n",
        "\n",
        "17. **is_repeated_guest** : *Value indicating if the booking name was from a repeated guest (1) or not (0)*\n",
        "\n",
        "18. **previous_cancellations** : *Number of previous bookings that were cancelled by the customer prior to the current booking*\n",
        "\n",
        "19. **previous_bookings_not_canceled** : *Number of previous bookings not cancelled by the customer prior to the current booking*\n",
        "\n",
        "20. **reserved_room_type** : *Code of room type reserved. Code is presented instead of designation for anonymity reasons.*\n",
        "\n",
        "21. **assigned_room_type** : *Code for the type of room assigned to the booking.* \n",
        "\n",
        "22. **booking_changes** : *Number of changes/amendments made to the booking from the moment the booking was entered on the PMS until the moment of check-in or cancellation*\n",
        "\n",
        "23. **deposit_type** : *Indication on if the customer made a deposit to guarantee the booking.*\n",
        "\n",
        "24. **agent** : *ID of the travel agency that made the booking*\n",
        "\n",
        "25. **company** : *ID of the company/entity that made the booking or responsible for paying the booking.* \n",
        "\n",
        "26. **days_in_waiting_list** : *Number of days the booking was in the waiting list before it was confirmed to the customer*\n",
        "\n",
        "27. **customer_type** : *Type of booking, assuming one of four categories*\n",
        "\n",
        "\n",
        "28. **adr** : *Average Daily Rate as defined by dividing the sum of all lodging transactions by the total number of staying night*\n",
        "\n",
        "29. **required_car_parking_spaces** : *Number of car parking spaces required by the customer*\n",
        "\n",
        "30. **total_of_special_requests** :* Number of special requests made by the customer (e.g. twin bed or high floor)*\n",
        "\n",
        "31. **reservation_status** : *Reservation last status, assuming one of three categories*\n",
        "* Canceled – booking was canceled by the customer\n",
        "* Check-Out – customer has checked in but already departed\n",
        "* No-Show – customer did not check-in and did inform the hotel of the reason why\n",
        "\n",
        "\n",
        "\n",
        "\n",
        "\n",
        "32. **reservation_status_date** : *Date at which the last status was set. This variable can be used in conjunction with the ReservationStatus to understand when was the booking canceled or when did the customer checked-out of the hotel*"
      ],
      "metadata": {
        "id": "73rvwtC7nCre"
      }
    },
    {
      "cell_type": "code",
      "source": [
        "#Checking the shape of the dataset\n",
        "hotels_df.shape"
      ],
      "metadata": {
        "id": "10e5rUsyYlUd"
      },
      "execution_count": null,
      "outputs": []
    },
    {
      "cell_type": "code",
      "source": [
        "#Checking basic information of all columns of the dataset\n",
        "hotels_df.info()"
      ],
      "metadata": {
        "id": "O5iv1zfiZCxV"
      },
      "execution_count": null,
      "outputs": []
    },
    {
      "cell_type": "code",
      "source": [
        "#looking at the min, max values,mean values etc. NAN values for mean,25% ,50%,75%,max indicates those are categorical columns.\n",
        "hotels_df.describe()"
      ],
      "metadata": {
        "id": "SpIQoA7hZ3pq"
      },
      "execution_count": null,
      "outputs": []
    },
    {
      "cell_type": "code",
      "source": [
        "#printing first 5 rows of dataset\n",
        "hotels_df.head()"
      ],
      "metadata": {
        "id": "LcQQhDUmah6t"
      },
      "execution_count": null,
      "outputs": []
    },
    {
      "cell_type": "code",
      "source": [
        "#printing last 5 rows of dataset\n",
        "hotels_df.tail()"
      ],
      "metadata": {
        "id": "tjqdzbR9arMq"
      },
      "execution_count": null,
      "outputs": []
    },
    {
      "cell_type": "markdown",
      "source": [
        "## Checking for Types of Variable in some columns(unique values)\n"
      ],
      "metadata": {
        "id": "7brdYO5OcI_b"
      }
    },
    {
      "cell_type": "code",
      "source": [],
      "metadata": {
        "id": "J051VPU4auPK"
      },
      "execution_count": null,
      "outputs": []
    },
    {
      "cell_type": "markdown",
      "source": [
        "# Cleaning the Dataset"
      ],
      "metadata": {
        "id": "WG2BMMz8cknq"
      }
    },
    {
      "cell_type": "code",
      "source": [
        "#creating copy of dataframe \n",
        "hotels_df_copy =hotels_df.copy()"
      ],
      "metadata": {
        "id": "S2S6hfJlcv_y"
      },
      "execution_count": 32,
      "outputs": []
    },
    {
      "cell_type": "code",
      "source": [
        "# Removing duplicate rows if any\n",
        "hotels_df_copy[hotels_df_copy.duplicated()].shape "
      ],
      "metadata": {
        "colab": {
          "base_uri": "https://localhost:8080/"
        },
        "id": "oOpIohtlc8kB",
        "outputId": "c7c52860-cfae-4534-909b-99946b2d6b9e"
      },
      "execution_count": 19,
      "outputs": [
        {
          "output_type": "execute_result",
          "data": {
            "text/plain": [
              "(31994, 32)"
            ]
          },
          "metadata": {},
          "execution_count": 19
        }
      ]
    },
    {
      "cell_type": "code",
      "source": [
        "# Droping duplicate values \n",
        "hotels_df_copy.drop_duplicates(inplace = True)   \n",
        "hotels_df_copy.shape"
      ],
      "metadata": {
        "colab": {
          "base_uri": "https://localhost:8080/"
        },
        "id": "ijqPGSV1dGgf",
        "outputId": "6c8e3277-9d51-4e0a-eada-517687eb0c54"
      },
      "execution_count": 31,
      "outputs": [
        {
          "output_type": "execute_result",
          "data": {
            "text/plain": [
              "(87333, 30)"
            ]
          },
          "metadata": {},
          "execution_count": 31
        }
      ]
    },
    {
      "cell_type": "code",
      "source": [
        "# cheking  for null values \n",
        "hotels_df.isna().sum(axis = 0)"
      ],
      "metadata": {
        "colab": {
          "base_uri": "https://localhost:8080/"
        },
        "id": "6eYzivopdRw_",
        "outputId": "982a7eaa-c98a-45d0-acf4-206493227102"
      },
      "execution_count": 21,
      "outputs": [
        {
          "output_type": "execute_result",
          "data": {
            "text/plain": [
              "hotel                                  0\n",
              "is_canceled                            0\n",
              "lead_time                              0\n",
              "arrival_date_year                      0\n",
              "arrival_date_month                     0\n",
              "arrival_date_week_number               0\n",
              "arrival_date_day_of_month              0\n",
              "stays_in_weekend_nights                0\n",
              "stays_in_week_nights                   0\n",
              "adults                                 0\n",
              "children                               4\n",
              "babies                                 0\n",
              "meal                                   0\n",
              "country                              488\n",
              "market_segment                         0\n",
              "distribution_channel                   0\n",
              "is_repeated_guest                      0\n",
              "previous_cancellations                 0\n",
              "previous_bookings_not_canceled         0\n",
              "reserved_room_type                     0\n",
              "assigned_room_type                     0\n",
              "booking_changes                        0\n",
              "deposit_type                           0\n",
              "agent                              16340\n",
              "company                           112593\n",
              "days_in_waiting_list                   0\n",
              "customer_type                          0\n",
              "adr                                    0\n",
              "required_car_parking_spaces            0\n",
              "total_of_special_requests              0\n",
              "reservation_status                     0\n",
              "reservation_status_date                0\n",
              "dtype: int64"
            ]
          },
          "metadata": {},
          "execution_count": 21
        }
      ]
    },
    {
      "cell_type": "markdown",
      "source": [
        "## Agent, company, children and country are having most null values, Cheking on them and fixing them."
      ],
      "metadata": {
        "id": "qSH9oVIKdmKC"
      }
    },
    {
      "cell_type": "code",
      "source": [
        "# Cheking content in agent column\n",
        "agent_list = hotels_df['agent'].tolist()\n",
        "list(agent_list)"
      ],
      "metadata": {
        "id": "uYG__wIydeHX"
      },
      "execution_count": null,
      "outputs": []
    },
    {
      "cell_type": "code",
      "source": [
        "# Cheking content in company column\n",
        "company_list = hotels_df['company'].tolist()\n",
        "list(company_list)"
      ],
      "metadata": {
        "id": "B9wlBxoGdx6r"
      },
      "execution_count": null,
      "outputs": []
    },
    {
      "cell_type": "code",
      "source": [
        "# Cheking content in country column\n",
        "country_list = hotels_df['country'].tolist()\n",
        "list(country_list)"
      ],
      "metadata": {
        "id": "Vvj869M5eBz0"
      },
      "execution_count": null,
      "outputs": []
    },
    {
      "cell_type": "code",
      "source": [
        "# Cheking content in country column\n",
        "children_list = hotels_df['children'].tolist()\n",
        "list(children_list)"
      ],
      "metadata": {
        "id": "1AWpgYYEeZCp"
      },
      "execution_count": null,
      "outputs": []
    },
    {
      "cell_type": "markdown",
      "source": [
        "##fixing nulls in children, country, agent and company.\n"
      ],
      "metadata": {
        "id": "t2QVFamTeSbO"
      }
    },
    {
      "cell_type": "code",
      "source": [
        "# Handling null values \n",
        "hotels_df_copy['children'].fillna(0, inplace = True)\n",
        "hotels_df_copy['country'].fillna('Others', inplace = True)\n",
        "hotels_df_copy['agent'].fillna(0, inplace = True)\n",
        "\n",
        "# Deleting two Columns which are not useful\n",
        "hotels_df_copy.drop(labels = ['previous_bookings_not_canceled','company'], axis=1, inplace = True)"
      ],
      "metadata": {
        "id": "p_R__N7MeKJR"
      },
      "execution_count": 33,
      "outputs": []
    },
    {
      "cell_type": "code",
      "source": [
        "# checking if their any null values in df\n",
        "hotels_df_copy.isnull().sum()"
      ],
      "metadata": {
        "id": "GsUVlMmwerxm"
      },
      "execution_count": null,
      "outputs": []
    },
    {
      "cell_type": "markdown",
      "source": [
        "##Converting columns datatype to required datatypes."
      ],
      "metadata": {
        "id": "oshZxtlOfbyK"
      }
    },
    {
      "cell_type": "code",
      "source": [
        "# Converting datatype from float to int.\n",
        "hotels_df_copy[['children', 'agent']] = hotels_df_copy[['children', 'agent']].astype('int64')"
      ],
      "metadata": {
        "id": "DSrjuMwqfkgc"
      },
      "execution_count": 36,
      "outputs": []
    },
    {
      "cell_type": "code",
      "source": [
        "# changing datatype of column 'reservation_status_date' to data_type.\n",
        "hotels_df_copy['reservation_status_date'] = pd.to_datetime(hotels_df_copy['reservation_status_date'], format = '%Y-%m-%d')"
      ],
      "metadata": {
        "id": "kWoddfYvfqZ9"
      },
      "execution_count": 41,
      "outputs": []
    },
    {
      "cell_type": "markdown",
      "source": [
        "## Adding important columns."
      ],
      "metadata": {
        "id": "hcxSOp_WgTuM"
      }
    },
    {
      "cell_type": "code",
      "source": [
        "# Adding total days of stay in hotels.\n",
        "hotels_df_copy['total_stay'] = hotels_df_copy['stays_in_weekend_nights']+hotels_df_copy['stays_in_week_nights']\n",
        "\n",
        "# Adding total number of guest as column.\n",
        "hotels_df_copy['total_people'] = hotels_df_copy['adults']+hotels_df_copy['children']+hotels_df_copy['babies']"
      ],
      "metadata": {
        "id": "JSJ36WLjgUpd"
      },
      "execution_count": 43,
      "outputs": []
    },
    {
      "cell_type": "markdown",
      "source": [
        "#**Final dataset check before finding insights.**"
      ],
      "metadata": {
        "id": "p6NMQlXsg3nu"
      }
    },
    {
      "cell_type": "code",
      "source": [
        "hotels_df_copy.info()"
      ],
      "metadata": {
        "id": "g5WVl06qgmXP"
      },
      "execution_count": null,
      "outputs": []
    },
    {
      "cell_type": "markdown",
      "source": [
        "#**Starting getting insights from the data**"
      ],
      "metadata": {
        "id": "6KSdneIziVn-"
      }
    },
    {
      "cell_type": "markdown",
      "source": [
        "**Now we will get valuable and meaningful insights out of our dataframe while keeping the problem statement in mind.**\n"
      ],
      "metadata": {
        "id": "i4hnPGoUiir2"
      }
    },
    {
      "cell_type": "markdown",
      "source": [
        "##Types of hotel and there frequencies and reasonaning."
      ],
      "metadata": {
        "id": "hBeWWXVtlO1h"
      }
    },
    {
      "cell_type": "code",
      "source": [
        "#Finding number of unique values and there frequency in data set.\n",
        "hotels_df_copy['hotel'].value_counts()"
      ],
      "metadata": {
        "colab": {
          "base_uri": "https://localhost:8080/"
        },
        "id": "_AQjGxH_lVXm",
        "outputId": "241fcce2-bd81-4ed1-a290-0a740572519f"
      },
      "execution_count": 51,
      "outputs": [
        {
          "output_type": "execute_result",
          "data": {
            "text/plain": [
              "City Hotel      79330\n",
              "Resort Hotel    40060\n",
              "Name: hotel, dtype: int64"
            ]
          },
          "metadata": {},
          "execution_count": 51
        }
      ]
    },
    {
      "cell_type": "code",
      "source": [
        "#plotting this insight.\n",
        "hotels_df_copy['hotel'].value_counts().plot(kind='pie', figsize=(15,10), title='What kind of hotels are booked more frequently', autopct='%1.1f%%' , fontsize=20 , shadow=True)"
      ],
      "metadata": {
        "colab": {
          "base_uri": "https://localhost:8080/",
          "height": 619
        },
        "id": "v-4qrsbDlX3F",
        "outputId": "88add6bb-28c5-4d42-8c3a-ac09045d77dd"
      },
      "execution_count": 114,
      "outputs": [
        {
          "output_type": "execute_result",
          "data": {
            "text/plain": [
              "<matplotlib.axes._subplots.AxesSubplot at 0x7fe74464c610>"
            ]
          },
          "metadata": {},
          "execution_count": 114
        },
        {
          "output_type": "display_data",
          "data": {
            "text/plain": [
              "<Figure size 1080x720 with 1 Axes>"
            ],
            "image/png": "[encoded data removed]"
          },
          "metadata": {}
        }
      ]
    },
    {
      "cell_type": "markdown",
      "source": [
        "we can conclude city hotels are more booked by customers"
      ],
      "metadata": {
        "id": "3wW2weeummyC"
      }
    },
    {
      "cell_type": "code",
      "source": [
        "#comparing hotel type with there adr(total revenue)\n",
        "hotel_type_adr= hotels_df_copy.groupby(['hotel'])['adr'].mean().reset_index()\n",
        "\n",
        "# Setting fontsizes,fontweight,label weight for lebels,titles.\n",
        "plt.rcParams[\"font.weight\"] = \"bold\"\n",
        "plt.rcParams[\"axes.labelweight\"] = \"bold\"\n",
        "plt.rcParams[\"axes.titlesize\"] = 30\n",
        "plt.rcParams[\"axes.titleweight\"] = 'bold'\n",
        "plt.figure(figsize=(15,10))\n",
        "\n",
        "#ploting the data\n",
        "sns.barplot(x=hotel_type_adr['hotel'],y=hotel_type_adr['adr'],data=hotel_type_adr).set(title='Mean ADR of the hotel types')\n"
      ],
      "metadata": {
        "colab": {
          "base_uri": "https://localhost:8080/",
          "height": 663
        },
        "id": "8ZPnNGfol1JV",
        "outputId": "40882869-60bd-4193-eb79-c3e67b3f45ee"
      },
      "execution_count": 145,
      "outputs": [
        {
          "output_type": "execute_result",
          "data": {
            "text/plain": [
              "[Text(0.5, 1.0, 'Mean ADR of the hotel types')]"
            ]
          },
          "metadata": {},
          "execution_count": 145
        },
        {
          "output_type": "display_data",
          "data": {
            "text/plain": [
              "<Figure size 1080x720 with 1 Axes>"
            ],
            "image/png": "[encoded data removed]"
          },
          "metadata": {}
        }
      ]
    },
    {
      "cell_type": "markdown",
      "source": [
        "So , we can conclude that as city hotels are booked more(66.4%) and resort hotels are booked less(33.6%) but city hotel only have 52.6% ADR and resort hotel has 47.41% ADR share in total ADR combined, we can conclude that city hotels are more cheaper."
      ],
      "metadata": {
        "id": "rlcSKuyTxFNZ"
      }
    },
    {
      "cell_type": "code",
      "source": [],
      "metadata": {
        "id": "zKtW0b1s3D73"
      },
      "execution_count": null,
      "outputs": []
    }
  ]
}